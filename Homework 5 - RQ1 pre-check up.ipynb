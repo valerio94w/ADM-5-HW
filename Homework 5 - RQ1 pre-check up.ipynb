{
 "cells": [
  {
   "cell_type": "markdown",
   "metadata": {},
   "source": [
    "# Homework 5 - Visit the Wikipedia hyperlinks graph!"
   ]
  },
  {
   "cell_type": "markdown",
   "metadata": {},
   "source": [
    "In this notebook, we decided to put just the exploration of research question 1 and the conclusions we made. Based on that we can use the right networkx method in the making of a graph and to double check the results and conclusions we made."
   ]
  },
  {
   "cell_type": "markdown",
   "metadata": {},
   "source": [
    "**RESEARCH QUESTION 1**:\n",
    "\n",
    "[RQ1] Build the graph [G=(V, E)] , where V is the set of articles and E the hyperlinks among them, and provide its basic information:\n",
    "\n",
    "    * If it is direct or not\n",
    "    * The number of nodes\n",
    "    * The number of edges\n",
    "    * The average node degree. Is the graph dense?"
   ]
  },
  {
   "cell_type": "markdown",
   "metadata": {},
   "source": [
    "# Libraries"
   ]
  },
  {
   "cell_type": "markdown",
   "metadata": {},
   "source": [
    "We decided to use networkx because it has a lot of libraries which can be used for answering the research questions."
   ]
  },
  {
   "cell_type": "code",
   "execution_count": 5,
   "metadata": {},
   "outputs": [],
   "source": [
    "import pandas as pd\n",
    "from collections import defaultdict\n",
    "import networkx as nx\n",
    "import pickle"
   ]
  },
  {
   "cell_type": "code",
   "execution_count": 2,
   "metadata": {},
   "outputs": [],
   "source": [
    "# Reading reduced edges file as dataframe, where one column is the source and other is the destination\n",
    "source_destination=pd.read_csv(\"wiki-topcats-reduced.txt\",sep=\"\\t\",header=None,names=[\"source\",\"destination\"])"
   ]
  },
  {
   "cell_type": "markdown",
   "metadata": {},
   "source": [
    "_source_ column represents **source nodes** and _destination_ column are **destination nodes** where one row is one **edge** between them"
   ]
  },
  {
   "cell_type": "code",
   "execution_count": 3,
   "metadata": {},
   "outputs": [
    {
     "data": {
      "text/html": [
       "<div>\n",
       "<style scoped>\n",
       "    .dataframe tbody tr th:only-of-type {\n",
       "        vertical-align: middle;\n",
       "    }\n",
       "\n",
       "    .dataframe tbody tr th {\n",
       "        vertical-align: top;\n",
       "    }\n",
       "\n",
       "    .dataframe thead th {\n",
       "        text-align: right;\n",
       "    }\n",
       "</style>\n",
       "<table border=\"1\" class=\"dataframe\">\n",
       "  <thead>\n",
       "    <tr style=\"text-align: right;\">\n",
       "      <th></th>\n",
       "      <th>source</th>\n",
       "      <th>destination</th>\n",
       "    </tr>\n",
       "  </thead>\n",
       "  <tbody>\n",
       "    <tr>\n",
       "      <th>0</th>\n",
       "      <td>52</td>\n",
       "      <td>401135</td>\n",
       "    </tr>\n",
       "    <tr>\n",
       "      <th>1</th>\n",
       "      <td>52</td>\n",
       "      <td>1069112</td>\n",
       "    </tr>\n",
       "    <tr>\n",
       "      <th>2</th>\n",
       "      <td>52</td>\n",
       "      <td>1163551</td>\n",
       "    </tr>\n",
       "    <tr>\n",
       "      <th>3</th>\n",
       "      <td>62</td>\n",
       "      <td>12162</td>\n",
       "    </tr>\n",
       "    <tr>\n",
       "      <th>4</th>\n",
       "      <td>62</td>\n",
       "      <td>167659</td>\n",
       "    </tr>\n",
       "  </tbody>\n",
       "</table>\n",
       "</div>"
      ],
      "text/plain": [
       "   source  destination\n",
       "0      52       401135\n",
       "1      52      1069112\n",
       "2      52      1163551\n",
       "3      62        12162\n",
       "4      62       167659"
      ]
     },
     "execution_count": 3,
     "metadata": {},
     "output_type": "execute_result"
    }
   ],
   "source": [
    "#first 5 rows\n",
    "source_destination.head()"
   ]
  },
  {
   "cell_type": "code",
   "execution_count": 4,
   "metadata": {},
   "outputs": [],
   "source": [
    "#list of (source, destination) tuples which will be used to read edges from them in networkx _add_edges_from_ method\n",
    "source_destination_tuples=[(row[\"source\"],row[\"destination\"]) for idx,row in source_destination.iterrows()]"
   ]
  },
  {
   "cell_type": "markdown",
   "metadata": {},
   "source": [
    "making of a dictionary where key=source_id(article_id), value=destination_id(list of article_id's which are connected to that article)"
   ]
  },
  {
   "cell_type": "code",
   "execution_count": 9,
   "metadata": {},
   "outputs": [],
   "source": [
    "source_destination_dict=defaultdict(list)\n",
    "for idx,row in source_destination.iterrows():\n",
    "    source_destination_dict[row[\"source\"]].append(row[\"destination\"])"
   ]
  },
  {
   "cell_type": "code",
   "execution_count": 10,
   "metadata": {},
   "outputs": [],
   "source": [
    "#saving dictionary as pickle file so we can reuse it and just import into memory\n",
    "pickle.dump(source_destination_dict,open('source_destination_dict.p','wb'))"
   ]
  },
  {
   "cell_type": "markdown",
   "metadata": {},
   "source": [
    "### The number of nodes and edges"
   ]
  },
  {
   "cell_type": "code",
   "execution_count": 11,
   "metadata": {},
   "outputs": [
    {
     "name": "stdout",
     "output_type": "stream",
     "text": [
      "Number of nodes: 461193 \n",
      "Number of edges: 2174451\n"
     ]
    }
   ],
   "source": [
    "#The number of nodes\n",
    "Gtup = nx.Graph()\n",
    "Gtup.add_edges_from(source_destination_tuples)\n",
    "print(\"Number of nodes:\",len(Gtup.nodes()),\"\\nNumber of edges:\",len(Gtup.edges()))"
   ]
  },
  {
   "cell_type": "markdown",
   "metadata": {},
   "source": [
    "### Average node degree"
   ]
  },
  {
   "cell_type": "code",
   "execution_count": 12,
   "metadata": {},
   "outputs": [
    {
     "data": {
      "text/plain": [
       "'Average degree:   9.4297'"
      ]
     },
     "execution_count": 12,
     "metadata": {},
     "output_type": "execute_result"
    }
   ],
   "source": [
    "nx.info(Gtup).split(\"\\n\")[4]"
   ]
  },
  {
   "cell_type": "markdown",
   "metadata": {},
   "source": [
    "###  Is the graph dense?"
   ]
  },
  {
   "cell_type": "code",
   "execution_count": 13,
   "metadata": {},
   "outputs": [
    {
     "data": {
      "text/plain": [
       "2.0446319786157265e-05"
      ]
     },
     "execution_count": 13,
     "metadata": {},
     "output_type": "execute_result"
    }
   ],
   "source": [
    "nx.density(Gtup)"
   ]
  },
  {
   "cell_type": "markdown",
   "metadata": {},
   "source": [
    "The graph is a **sparse graph**. It is obvious because the density has a small value. Value of density can be from 0 to 1. \n",
    "If it is closer to 0 then the graph is sparse, and if it is closer to 1 it is a dense graph."
   ]
  },
  {
   "cell_type": "markdown",
   "metadata": {},
   "source": [
    "    .\n",
    "    .\n",
    "    ."
   ]
  },
  {
   "cell_type": "markdown",
   "metadata": {},
   "source": [
    "Below is an example of the first key in the source_destination_dict.\n",
    "\n",
    "As we can see, and as it is mentioned above, the key in the dictionary is a _source node_, and values are the _destination nodes_ which are connected to that source node."
   ]
  },
  {
   "cell_type": "code",
   "execution_count": 14,
   "metadata": {},
   "outputs": [
    {
     "data": {
      "text/plain": [
       "(52, [401135, 1069112, 1163551])"
      ]
     },
     "execution_count": 14,
     "metadata": {},
     "output_type": "execute_result"
    }
   ],
   "source": [
    "first_key=next(iter(source_destination_dict))\n",
    "\n",
    "(first_key,source_destination_dict[first_key])"
   ]
  },
  {
   "cell_type": "markdown",
   "metadata": {},
   "source": [
    "### Is the graph directed or undirected?"
   ]
  },
  {
   "cell_type": "markdown",
   "metadata": {},
   "source": [
    "The code below represents:\n",
    ">A small method just to check and conclude if the graph is directed or undirected.\n",
    "indicatorD is just a boolean variable which will be True if the graph is directed, otherwise it is False.\n",
    "It is tested on just the first node as a source and checks whether those destination nodes are having that first node for\n",
    "their destination node."
   ]
  },
  {
   "cell_type": "code",
   "execution_count": 15,
   "metadata": {},
   "outputs": [
    {
     "name": "stdout",
     "output_type": "stream",
     "text": [
      "Graph is directed\n"
     ]
    }
   ],
   "source": [
    "#boolean variable->initiailized as False, which indicates that graph is undirected\n",
    "indicatorD=False\n",
    "first_key=next(iter(source_destination_dict)) # first key (node 52)\n",
    "#tuple (source_node, list of destination nodes)\n",
    "first_key_tup=(first_key,source_destination_dict[first_key]) # (52, [401135, 1069112, 1163551])\n",
    "for dest in first_key_tup[1]:#check when destination is source\n",
    "    if first_key not in source_destination_dict[dest]: #if 52 is not the destionation node for [401135, 1069112, 1163551]\n",
    "        indicatorD=True #then it is directed graph\n",
    "if indicatorD==True:\n",
    "    print(\"Graph is directed\")\n",
    "else:\n",
    "    print(\"Graph is undirected\")"
   ]
  }
 ],
 "metadata": {
  "kernelspec": {
   "display_name": "Python 3",
   "language": "python",
   "name": "python3"
  },
  "language_info": {
   "codemirror_mode": {
    "name": "ipython",
    "version": 3
   },
   "file_extension": ".py",
   "mimetype": "text/x-python",
   "name": "python",
   "nbconvert_exporter": "python",
   "pygments_lexer": "ipython3",
   "version": "3.7.0"
  }
 },
 "nbformat": 4,
 "nbformat_minor": 2
}
